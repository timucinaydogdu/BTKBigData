{
 "cells": [
  {
   "cell_type": "markdown",
   "metadata": {},
   "source": [
    "##### Big DATA Tanımlama : 5 V kuralı olmalıdır.  \n",
    "\n",
    ">Volume     = Verinin Hacmi         (Verinin Büyüklüğüdür)<br>\n",
    "Velocity    = Verinin Hızı          (Dakikalık elde edilen verilerdir.)<br>\n",
    "Variety     = Verinin Çeşitliliği   (Ses, Yazı, Video, Veritabanı gelen veriler.)<br>\n",
    "Verification= Verinin Doğrulanması  (Anlamsız verilerin ve gürültülerin temizlenmesidir.)<br>\n",
    "Value       = Verinin Değer Katması (Firmaya elde edilen verilerin pozitif değerlendirilmesi.)<br>"
   ]
  },
  {
   "cell_type": "markdown",
   "metadata": {},
   "source": [
    "##### Big DATA Kütüphaneleri nelerdir.  \n",
    "Verilerin hızlı işlenmesi için dağıtık işlem cluster yapılar ve sistemler kullanılır. \n",
    "\n",
    "<b>Veri Şeması</b>\n",
    "\n",
    "Kaynak --> Kafka --> Spark , Hadoop --> MangoDb, elasticsearch,hadoop hdfs,apache hbase --> DashBoard PrimeFace,Node Js\n",
    "\n",
    ">Kafka Kütüphanesi = Kaynaktan gelen ham verilerin işleme sırasına düzenli şekilde girebilmesi için oluşturulan kuyruk mekanizmasıdır. <br>\n",
    "\n",
    ">Spark Kütüphanesi = Dosya saklama sistemi bulunmamaktadır. Ram üzerinden çalışır. <br>\n",
    "\n",
    ">Hadoop Kütüphanesi= \n",
    "1. hdfs bölümü        = Veriler ve dosyalar dağıtık(Bloklar) şekilde tutulur. \n",
    "2. MapReduce          = Verilerin ayrıştırması ve birleştirme işlemleri yapılır. \n",
    "3. Cluster            = Veriler paralel bağlanmış makilerde işlemlere ayrılabilir.\n",
    "4. Replication Faktor = Veriler paralel bağlanmış makilerde ayrı ayrı kaydedilir. <br>\n",
    "\n",
    ">Elasticsearch Kütüphanesi = Metin arama işlemlerinde kullanılabilir. Metin olarak indexleme yapar. <br>\n",
    "\n",
    ">Mongo DB Kütüphanesi = Verileri json tabanlı olarak kaydeden, ilişkisel olmayan veri tabanıdır. <br>\n",
    "\n",
    ">NOSQL Kütüphanesi = İlişkisel veritabanına alternatif olarak oluşturulmuştur. Ölçeklendirilebilir bir yapısı vardır. Yüksek trafiğe hizmet verebilir. \n",
    "1. Document    = Döküman tabanlı olarak kaydedilir. (json)\n",
    "2. Wide Column = Satır ve kolon veri tabanına benzer. Süper column alanının altında ayırmalar yapılabilir. Hbase, Hadoop kullanılabilir.\n",
    "3. Key Value   = Her key karışılında bir değer olarak bir değer ve veri dizisi bulunur. Belli keylerde belli veriler alınması içindir.\n",
    "4. Graph DB    = Veriyi node olarak belirler ve nodelar arasındaki verileri saklar. "
   ]
  },
  {
   "cell_type": "code",
   "execution_count": null,
   "metadata": {},
   "outputs": [],
   "source": [
    "222"
   ]
  }
 ],
 "metadata": {
  "kernelspec": {
   "display_name": "Python 3",
   "language": "python",
   "name": "python3"
  },
  "language_info": {
   "codemirror_mode": {
    "name": "ipython",
    "version": 3
   },
   "file_extension": ".py",
   "mimetype": "text/x-python",
   "name": "python",
   "nbconvert_exporter": "python",
   "pygments_lexer": "ipython3",
   "version": "3.7.6"
  }
 },
 "nbformat": 4,
 "nbformat_minor": 4
}
